{
 "cells": [
  {
   "cell_type": "markdown",
   "metadata": {},
   "source": [
    "# [실습] 다양한 회귀 분석 모델을 활용한 분석"
   ]
  },
  {
   "cell_type": "markdown",
   "metadata": {},
   "source": [
    "## 1. House price 데이터를 활용한 회귀분석\n",
    "House price 데이터는 kaggle에서 확인해볼 수 있는 집값예측 데이터입니다."
   ]
  },
  {
   "cell_type": "markdown",
   "metadata": {
    "id": "UYq0AAHq-gb3"
   },
   "source": [
    "\n",
    "### 1-1. 데이터 소개\n",
    "\n",
    "\n"
   ]
  },
  {
   "cell_type": "markdown",
   "metadata": {
    "id": "nCuhdaaG7zT_"
   },
   "source": [
    "https://www.kaggle.com/c/2019-2nd-ml-month-with-kakr"
   ]
  },
  {
   "cell_type": "markdown",
   "metadata": {
    "id": "CHZj0CYt7jfR"
   },
   "source": [
    "\n",
    "### 1-2. Evaluation, 점수 평가 기준\n"
   ]
  },
  {
   "cell_type": "markdown",
   "metadata": {
    "id": "Qv-VloQg8zgT"
   },
   "source": [
    "**RMSE** (Root Mean Squared Error)\n",
    "\n",
    "$ \\sqrt{ {1 \\over n}  {\\sum (y_t - y_{pr})^2} } $"
   ]
  },
  {
   "cell_type": "markdown",
   "metadata": {
    "id": "I09ypimO_8VW"
   },
   "source": [
    "- MSE에 루트를 씌운 값  \n",
    "- **RMSE를 사용하면 오류 지표를 실제 값과 유사한 단위로 다시 변환하여 해석을 쉽게 한다.**  \n",
    "- MAE(Mean Absolute Error)보다 상대적으로 **특이값에 Robust**하다.  \n",
    "- 예측 대상의 크기에 영향을 바로 받는다.  \n",
    "- **사이킷런은 RMSE를 제공하지 않으므로 MSE에 제곱근을 씌워서 계산하는 함수를 직접 만들어야 한다.**  \n",
    "  \n",
    "\n",
    "이번 실습에서 다루는 문제는 '집 값'을 예측하는 문제이기 때문에 우리가 예측해야 하는 값과 실제 정답 Label 값이 모두 실숫값입니다.    "
   ]
  },
  {
   "cell_type": "markdown",
   "metadata": {
    "id": "2iDBuE_ZBbT9"
   },
   "source": [
    "### 1-3. Data Description, 데이터 설명\n"
   ]
  },
  {
   "cell_type": "markdown",
   "metadata": {
    "id": "_w1C_DrF8K-O"
   },
   "source": [
    "**Dataset Description**\n",
    "  \n",
    "[File descriptions]\n",
    "- train.csv - 예측 모델을 만들기 위해 사용하는 학습 데이터입니다. 집의 정보와 예측할 변수인 가격(Price) 변수를 가지고 있습니다.\n",
    "- test.csv - 학습셋으로 만든 모델을 가지고 예측할 가격(Price) 변수를 제외한 집의 정보가 담긴 테스트 데이터 입니다.\n",
    "- sample_submission.csv - 제출시 사용할 수 있는 예시 submission.csv 파일입니다.\n",
    "\n",
    "[Data fields]\n",
    "1. ID : 집을 구분하는 번호\n",
    "2. date : 집을 구매한 날짜\n",
    "3. price : 집의 가격(Target variable)\n",
    "4. bedrooms : 침실의 수\n",
    "5. bathrooms : 화장실의 수\n",
    "6. sqft_living : 주거 공간의 평방 피트(면적)\n",
    "7. sqft_lot : 부지의 평방 피트(면적)\n",
    "8. floors : 집의 층 수\n",
    "9. waterfront : 집의 전방에 강이 흐르는지 유무 (a.k.a. 리버뷰)\n",
    "10. view : 집이 얼마나 좋아 보이는지의 정도\n",
    "11. condition : 집의 전반적인 상태\n",
    "12. grade : King County grading 시스템 기준으로 매긴 집의 등급\n",
    "13. sqft_above : 지하실을 제외한 평방 피트(면적)\n",
    "14. sqft_basement : 지하실의 평방 피트(면적)\n",
    "15. yr_built : 지어진 년도\n",
    "16. yr_renovated : 집을 재건축한 년도\n",
    "17. zipcode : 우편번호\n",
    "18. lat : 위도\n",
    "19. long : 경도\n",
    "20. sqft_living15 : 2015년 기준 주거 공간의 평방 피트(면적, 집을 재건축했다면, 변화가 있을 수 있음)\n",
    "21. sqft_lot15 : 2015년 기준 부지의 평방 피트(면적, 집을 재건축했다면, 변화가 있을 수 있음)"
   ]
  },
  {
   "cell_type": "markdown",
   "metadata": {
    "id": "hC__lV7hC1Gl"
   },
   "source": [
    "## 2. House price 데이터를 활용한 회귀분석\n"
   ]
  },
  {
   "cell_type": "markdown",
   "metadata": {
    "id": "CfZ2bmbkFWCQ"
   },
   "source": [
    "**[실습 목표]**  \n",
    "- 다양한 머신러닝 모델을 활용한 회귀 실습\n",
    "- 평가지표를 통한 학습결과 평과 과정 이해\n",
    "\n",
    "### 2-1. 필요 라이브러리 import"
   ]
  },
  {
   "cell_type": "code",
   "execution_count": null,
   "metadata": {
    "id": "7jhyETm090xP"
   },
   "outputs": [],
   "source": [
    "import warnings\n",
    "warnings.filterwarnings(\"ignore\")\n",
    "\n",
    "import os\n",
    "from os.path import join\n",
    "\n",
    "import pandas as pd\n",
    "pd.options.display.float_format = '{:.2f}'.format\n",
    "import numpy as np\n",
    "\n",
    "import missingno as msno # 결측치 파악\n",
    "\n",
    "# 시각화\n",
    "import matplotlib.pyplot as plt\n",
    "%matplotlib inline\n",
    "%config InlineBackend.figure_format = 'retina'\n",
    "import seaborn as sns\n",
    "\n",
    "from sklearn.model_selection import train_test_split\n",
    "\n",
    "# 다양한 머신러닝 모델\n",
    "from sklearn.linear_model import LinearRegression\n",
    "from sklearn.linear_model import LogisticRegression\n",
    "from sklearn.linear_model import SGDRegressor\n",
    "from sklearn.ensemble import GradientBoostingRegressor\n",
    "from xgboost import XGBRegressor\n",
    "from lightgbm import LGBMRegressor\n",
    "from sklearn.ensemble import GradientBoostingRegressor, RandomForestRegressor\n",
    "\n",
    "# metric\n",
    "from sklearn.metrics import mean_absolute_error\n",
    "from sklearn.metrics import mean_squared_error\n",
    "from sklearn.metrics import r2_score"
   ]
  },
  {
   "cell_type": "markdown",
   "metadata": {
    "id": "l3zv3_H5FgNN"
   },
   "source": [
    "### 2-2. 데이터 이해하기\n",
    "데이터의 경로를 지정해주고, 데이터의 차원을 출력합니다."
   ]
  },
  {
   "cell_type": "code",
   "execution_count": null,
   "metadata": {
    "colab": {
     "base_uri": "https://localhost:8080/"
    },
    "id": "-QE95eTbDgzi",
    "outputId": "66480928-c013-4eee-9dfe-93917f23569f"
   },
   "outputs": [],
   "source": [
    "data_dir = 'data'\n",
    "\n",
    "train_data_path = join(data_dir, 'train.csv')\n",
    "sub_data_path = join(data_dir, 'test.csv')      # 테스트, 즉 submission 시 사용할 데이터 경로\n",
    "print(train_data_path)\n",
    "print(sub_data_path)\n",
    "\n",
    "train = pd.read_csv(train_data_path)\n",
    "sub = pd.read_csv(sub_data_path)\n",
    "print('train data dim : {}'.format(train.shape))\n",
    "print('sub data dim : {}'.format(sub.shape))"
   ]
  },
  {
   "cell_type": "markdown",
   "metadata": {
    "id": "BFNYncWdqAqG"
   },
   "source": [
    "#### [TODO] 불러온 데이터를 출력해봅시다."
   ]
  },
  {
   "cell_type": "code",
   "execution_count": null,
   "metadata": {
    "colab": {
     "base_uri": "https://localhost:8080/",
     "height": 483
    },
    "id": "O4W-qqHA2tzH",
    "outputId": "eab08514-9edb-4ed5-b83f-ce474a0ceb0a"
   },
   "outputs": [],
   "source": [
    "# train dataset 출력\n",
    "____"
   ]
  },
  {
   "cell_type": "code",
   "execution_count": null,
   "metadata": {
    "colab": {
     "base_uri": "https://localhost:8080/",
     "height": 483
    },
    "id": "Ba01moIz2vHb",
    "outputId": "3230e7c1-7983-45b7-86fa-cb8ea062d4d3"
   },
   "outputs": [],
   "source": [
    "# sub(test dataset) 출력\n",
    "____"
   ]
  },
  {
   "cell_type": "markdown",
   "metadata": {
    "id": "vVvWhf3bG77n"
   },
   "source": [
    "`price` 컬럼은 정답 레이블로서 y라는 변수에 저장한 후 해당 컬럼은 지워줍니다."
   ]
  },
  {
   "cell_type": "code",
   "execution_count": null,
   "metadata": {
    "colab": {
     "base_uri": "https://localhost:8080/"
    },
    "id": "BxIwIkw0Gpfo",
    "outputId": "fa6cb5ed-21dd-4b70-cda4-67def8954eb9"
   },
   "outputs": [],
   "source": [
    "# train에서 y label을 따로 분리\n",
    "y = train['price']\n",
    "del train['price']\n",
    "\n",
    "print(train.columns)"
   ]
  },
  {
   "cell_type": "markdown",
   "metadata": {
    "id": "I4o0kLK6HN6N"
   },
   "source": [
    "모델을 학습시키기 전에, 전체 데이터에 대해 탐색해보기 위해 두 데이터를 `pd.concat`으로 합쳐봅니다.\n",
    "\n",
    "물론, 모델 학습을 진행할 때에는 다시 분리해서 사용해야 하기 때문에 데이터를 합치기 전 `train_len`에 training data의 개수를 저장해서 추후에 학습데이터만 불러올 수 있는 인덱스로 사용합니다."
   ]
  },
  {
   "cell_type": "code",
   "execution_count": null,
   "metadata": {
    "colab": {
     "base_uri": "https://localhost:8080/"
    },
    "id": "okCa3QkoHDZ9",
    "outputId": "58bf68cd-3c89-434e-fb12-b7eeb9d3b5e0"
   },
   "outputs": [],
   "source": [
    "# 전체 데이터에 대해 탐색해보기 위하여 data에 sub를 concat 시켜봅시다. (단, 모델 학습 시에는 다시 분리해야 하므로 train_len에 training data의 갯수를 저장하여 인덱스로 활용합시다.)\n",
    "train_len = len(train)\n",
    "data = pd.concat((train, sub), axis=0)\n",
    "\n",
    "print(len(data))"
   ]
  },
  {
   "cell_type": "code",
   "execution_count": null,
   "metadata": {
    "colab": {
     "base_uri": "https://localhost:8080/",
     "height": 268
    },
    "id": "F6pr08ZyHU4V",
    "outputId": "7228ed79-5d6a-456c-a853-b5e652ea469a"
   },
   "outputs": [],
   "source": [
    "# train과 sub가 합쳐진 데이터, data를 출력\n",
    "data.head()"
   ]
  },
  {
   "cell_type": "markdown",
   "metadata": {
    "id": "DfsEgXbaqViR"
   },
   "source": [
    "#### [TODO] 데이터셋의 정보를 파악해봅시다."
   ]
  },
  {
   "cell_type": "code",
   "execution_count": null,
   "metadata": {
    "colab": {
     "base_uri": "https://localhost:8080/"
    },
    "id": "DovZ3hTCpzRN",
    "outputId": "ddf1f1bb-bbfe-4e80-d92c-7f183d2eff0b"
   },
   "outputs": [],
   "source": [
    "# info 메소드를 활용하여 dataset의 정보를 파악해보자.\n",
    "data._____"
   ]
  },
  {
   "cell_type": "markdown",
   "metadata": {
    "id": "vYwHwtB6HbVR"
   },
   "source": [
    "### 2-3. 결측치 확인하기\n",
    "결측치, 즉 빈 데이터가 있는지는 위에서 설치했던 `missingno 라이브러리`를 사용해서 확인합니다.  \n",
    "(NaN과 같은 결측치가 있다면 해당 부분이 하얗게 나올 것이고, 결측치가 없다면 매트릭스 전체가 까맣게 나옵니다)"
   ]
  },
  {
   "cell_type": "markdown",
   "metadata": {
    "id": "nq5D-pEfqjQm"
   },
   "source": [
    "#### [TODO] 결측치 데이터를 확인해봅시다."
   ]
  },
  {
   "cell_type": "code",
   "execution_count": null,
   "metadata": {
    "colab": {
     "base_uri": "https://localhost:8080/",
     "height": 982
    },
    "id": "vLmlIPG6HVpM",
    "outputId": "db7f65de-7500-45f7-fb26-9f037394d6b5"
   },
   "outputs": [],
   "source": [
    "# data라는 DataFrame을 매트릭스 모양 그대로 시각화한 것\n",
    "msno.matrix(data)"
   ]
  },
  {
   "cell_type": "code",
   "execution_count": null,
   "metadata": {
    "colab": {
     "base_uri": "https://localhost:8080/"
    },
    "id": "n-rX-gVvHnSI",
    "outputId": "d5a642d1-a7d8-40b9-88ac-dbc12509456d"
   },
   "outputs": [],
   "source": [
    "# 1. id 컬럼이 결측치인지 확인합니다.\n",
    "null_check = pd.isnull(________)\n",
    "print(null_check)"
   ]
  },
  {
   "cell_type": "code",
   "execution_count": null,
   "metadata": {
    "colab": {
     "base_uri": "https://localhost:8080/"
    },
    "id": "onQ8JtWeH7jo",
    "outputId": "3eb2817d-00eb-4098-a3ec-4db4af82b532"
   },
   "outputs": [],
   "source": [
    "# 2. 결측치인 데이터만 뽑아냅니다.\n",
    "null_data = data.loc[________, 'id']\n",
    "null_data.head()"
   ]
  },
  {
   "cell_type": "code",
   "execution_count": null,
   "metadata": {
    "colab": {
     "base_uri": "https://localhost:8080/"
    },
    "id": "R7YozLQFH8jw",
    "outputId": "77db49ca-b018-4744-82f6-7d1257abed72"
   },
   "outputs": [],
   "source": [
    "# 3. 결측치인 데이터의 개수를 셉니다. values 메소드를 활용하시기 바랍니다.\n",
    "print(f'id: {len(________.______)}')"
   ]
  },
  {
   "cell_type": "code",
   "execution_count": null,
   "metadata": {
    "colab": {
     "base_uri": "https://localhost:8080/"
    },
    "id": "_pD1ymHWH-hT",
    "outputId": "33e159d1-e9df-4003-d271-433f97ab6e22"
   },
   "outputs": [],
   "source": [
    "# 4. 컬럼 별로 결측치가 있는지 확인합니다. (반복문 활용)\n",
    "for c in data.columns:\n",
    "    print('{} : {}'.format(c, len(data.loc[pd.isnull(data[c]), c].values)))"
   ]
  },
  {
   "cell_type": "markdown",
   "metadata": {
    "id": "HrDdfWawIQ_x"
   },
   "source": [
    "### 2-4. 데이터 전처리\n"
   ]
  },
  {
   "cell_type": "markdown",
   "metadata": {
    "id": "Sbbv2kawIkGp"
   },
   "source": [
    "필요 없는 `id` 컬럼을 제거합니다. 나중에 예측 결과를 제출할 때를 대비하여 `sub_id` 변수에 `id` 칼럼을 저장해두고 지우도록 하겠습니다."
   ]
  },
  {
   "cell_type": "code",
   "execution_count": null,
   "metadata": {
    "colab": {
     "base_uri": "https://localhost:8080/"
    },
    "id": "4Jdb42NKIbsK",
    "outputId": "b4ef453e-79e7-4fa7-94ff-91037a132365"
   },
   "outputs": [],
   "source": [
    "# 불필요한 id 컬럼 제거 / sub_id라는 변수에 따로 저장해 둘 것\n",
    "sub_id = data['id'][train_len:]\n",
    "del data['id']\n",
    "\n",
    "print(data.columns)"
   ]
  },
  {
   "cell_type": "markdown",
   "metadata": {
    "id": "F66CQphfrqj3"
   },
   "source": [
    "#### [TODO] date 컬럼을 수정해봅시다."
   ]
  },
  {
   "cell_type": "markdown",
   "metadata": {
    "id": "VR-yRgcmIsnr"
   },
   "source": [
    "`date` 컬럼은 `apply` 함수로 필요한 부분만 잘라줍니다."
   ]
  },
  {
   "cell_type": "code",
   "execution_count": null,
   "metadata": {
    "colab": {
     "base_uri": "https://localhost:8080/",
     "height": 268
    },
    "id": "IjCu4aJSIpu1",
    "outputId": "5c95c11e-f6a6-4d7b-d031-d84434e32129"
   },
   "outputs": [],
   "source": [
    "# date 컬럼을 연/월만 표기되도록 수정하고, 데이터타입을 int형으로 바꿔줍니다.\n",
    "# ex. date : 201410 형태로 출력 / to_numeric 메소드를 활용하시기 바랍니다.\n",
    "data['date'] = data['date'].apply(lambda x : str(x[:6])) # 20141013T000000 형식의 데이터를 연/월 데이터만 사용하기 위해 앞에서부터 6자리만 사용\n",
    "data['date'] = pd.__________(data['date']) # date 컬럼의 데이터형식을 object에서 int로 변환\n",
    "\n",
    "data.head()"
   ]
  },
  {
   "cell_type": "markdown",
   "metadata": {
    "id": "obomj6kII1_O"
   },
   "source": [
    "- 각 변수들의 분포 확인  \n",
    "\n",
    "sns.kdeplot을 사용하여 너무 치우친 분포를 가지는 컬럼은 있는지 확인하고, 정규화를 시켜줍니다."
   ]
  },
  {
   "cell_type": "code",
   "execution_count": null,
   "metadata": {
    "colab": {
     "base_uri": "https://localhost:8080/",
     "height": 1000
    },
    "id": "Sy2nAB7cIv40",
    "outputId": "c20856af-ed06-4c45-e359-69a9e5839ca1"
   },
   "outputs": [],
   "source": [
    "# id 변수(count==0인 경우)는 제외하고 데이터의 분포를 시각화합니다.\n",
    "fig, ax = plt.subplots(9, 2, figsize=(12, 50))   # 가로 스크롤 때문에 그래프 확인이 불편하시다면, figsize의 x값을 조절하는 방법도 있습니다.\n",
    "\n",
    "count = 1\n",
    "columns = data.columns\n",
    "for row in range(9):\n",
    "    for col in range(2):\n",
    "        sns.kdeplot(data=data[columns[count]], ax=ax[row][col])\n",
    "        ax[row][col].set_title(columns[count], fontsize=15)\n",
    "        count += 1\n",
    "        if count == 19 :\n",
    "            break"
   ]
  },
  {
   "cell_type": "markdown",
   "metadata": {
    "id": "70ko8JmcJZmy"
   },
   "source": [
    "`bedrooms`, `sqft_living`, `sqft_lot`, `sqft_above`, `sqft_basement`, `sqft_living15`, `sqft_lot15` 변수가 한쪽으로 치우친 경향을 보이는데, 이렇게 한 쪽으로 치우친 분포의 경우에는 **로그 변환(log-scaling)** 을 통해 데이터 분포를 정규분포에 가깝게 만들 수 있습니다."
   ]
  },
  {
   "cell_type": "markdown",
   "metadata": {
    "id": "0Y2tPN_wJzjX"
   },
   "source": [
    "- np.log1p()를 활용하여 로그 변환 시켜주기  \n",
    "\n",
    "`numpy.log1p()` 함수는 입력 배열의 각 요소에 대해 자연로그 log(1 + x)을 반환해 주는 함수입니다."
   ]
  },
  {
   "cell_type": "code",
   "execution_count": null,
   "metadata": {
    "id": "wiqsI7beJGu6"
   },
   "outputs": [],
   "source": [
    "# 'bedrooms', 'sqft_living', 'sqft_lot', 'sqft_above', 'sqft_basement', 'sqft_lot15', 'sqft_living15' 컬럼들에 대해 로그 변환을 시켜줍시다.\n",
    "skew_columns = ['bedrooms', 'sqft_living', 'sqft_lot', 'sqft_above', 'sqft_basement', 'sqft_lot15', 'sqft_living15']\n",
    "\n",
    "for c in skew_columns:\n",
    "    data[c] = np.log1p(data[c].values)"
   ]
  },
  {
   "cell_type": "markdown",
   "metadata": {
    "id": "0VRGnmxAKBOT"
   },
   "source": [
    "변환시킨 후 데이터의 분포를 다시 확인해보면?"
   ]
  },
  {
   "cell_type": "code",
   "execution_count": null,
   "metadata": {
    "colab": {
     "base_uri": "https://localhost:8080/",
     "height": 1000
    },
    "id": "4kXeEKWGJ35p",
    "outputId": "c088fe7b-7727-46da-fbaa-5d38b99d1521"
   },
   "outputs": [],
   "source": [
    "# 변환한 컬럼들('bedrooms', 'sqft_living', 'sqft_lot', 'sqft_above', 'sqft_basement', 'sqft_lot15', 'sqft_living15')의 데이터 분포를 다시 시각화하여 확인해봅니다.\n",
    "fig, ax = plt.subplots(4, 2, figsize=(12, 24))\n",
    "\n",
    "count = 0\n",
    "for row in range(4):\n",
    "    for col in range(2):\n",
    "        if count == 7:\n",
    "            break\n",
    "        sns.kdeplot(data=data[skew_columns[count]], ax=ax[row][col])\n",
    "        ax[row][col].set_title(skew_columns[count], fontsize=15)\n",
    "        count += 1"
   ]
  },
  {
   "cell_type": "markdown",
   "metadata": {
    "id": "yEYueI5EKKsl"
   },
   "source": [
    "log 변환을 한 후에 그래프의 분포를 보면, 변환 전과 비교했을 때 정규분포에 더 가까운 형태로 출력됩니다.\n",
    "  \n",
    "데이터의 분포가 한쪽으로 쏠려서 편향을 가지게 되면 모델 학습에 좋지 않은 영향을 미칠 수 있기 때문에 분석 전 데이터 시각화 및 EDA 작업을 통해서 모델 학습을 준비하는 과정이 반드시 필요합니다!\n",
    "  \n",
    "  \n",
    "다음으로 우리가 맞춰야 할 정답 Lable, 집의 가격(`data[price]`)의 분포를 확인해봅시다."
   ]
  },
  {
   "cell_type": "code",
   "execution_count": null,
   "metadata": {
    "colab": {
     "base_uri": "https://localhost:8080/",
     "height": 465
    },
    "id": "F7UcXxAHKFEP",
    "outputId": "f9624580-13fb-4df6-ca58-155f927a78ef"
   },
   "outputs": [],
   "source": [
    "# 정답 레이블 y의 분포를 시각화해봅시다.\n",
    "sns.kdeplot(y)\n",
    "plt.show()"
   ]
  },
  {
   "cell_type": "code",
   "execution_count": null,
   "metadata": {
    "colab": {
     "base_uri": "https://localhost:8080/",
     "height": 449
    },
    "id": "m-IKD4ELKWpe",
    "outputId": "1487b812-ed16-475a-fa2c-03fb3415f625"
   },
   "outputs": [],
   "source": [
    "# y의 데이터 역시 로그 변환 시켜줍시다.\n",
    "y_log_transformation = np.log1p(y)\n",
    "\n",
    "sns.kdeplot(y_log_transformation)\n",
    "plt.show()"
   ]
  },
  {
   "cell_type": "markdown",
   "metadata": {
    "id": "6G-BVJZ6LKIU"
   },
   "source": [
    "### 2-5. 머신러닝 모델 설계"
   ]
  },
  {
   "cell_type": "markdown",
   "metadata": {
    "id": "LVEZZcEiMQMk"
   },
   "source": [
    "오늘 실습에서 활용해 볼 머신러닝 모델은 다음과 같습니다.  \n",
    "(in scikit-learn)\n",
    "- Linear Regression  \n",
    "- Logistic Regression  \n",
    "- SGD Regressor  \n",
    "- GradientBoostingRegressor  \n",
    "- Random Forest\n",
    "\n",
    "(not scikit-learn)\n",
    "- XGBRegressor  \n",
    "- LGBMRegressor\n"
   ]
  },
  {
   "cell_type": "markdown",
   "metadata": {
    "id": "JPLxHp-Gr-V-"
   },
   "source": [
    "#### [TODO] scikit-learn에서 제공해주는 머신러닝 모델들을 불러옵니다."
   ]
  },
  {
   "cell_type": "code",
   "execution_count": null,
   "metadata": {
    "id": "ZOZPT1-uY99u"
   },
   "outputs": [],
   "source": [
    "# 위의 머신러닝 모델들을 각각 불러옵니다. (scikit-learn import한 부분 참고!)\n",
    "\n",
    "# Linear Regression\n",
    "lr = ________________________\n",
    "\n",
    "# Logistic Regression\n",
    "logr = ________________________\n",
    "\n",
    "# SGD Regressor\n",
    "sgd = ________________________\n",
    "\n",
    "# GradientBoosting Regressor\n",
    "gboost = ________________________\n",
    "\n",
    "# XGBRegressor\n",
    "xgboost = ________________________\n",
    "\n",
    "# LGBMRegressor\n",
    "lgbm = ________________________\n",
    "\n",
    "# Random Forest\n",
    "rdforest = ________________________"
   ]
  },
  {
   "cell_type": "code",
   "execution_count": null,
   "metadata": {
    "id": "wJ7KPiQ3ZTGo"
   },
   "outputs": [],
   "source": [
    "models = [lr, logr, sgd, gboost, xgboost, lgbm, rdforest]"
   ]
  },
  {
   "cell_type": "markdown",
   "metadata": {
    "id": "qw3RjK6WL5n0"
   },
   "source": [
    "### 2-6. 평가지표를 활용하여 머신러닝 모델 평가해보기"
   ]
  },
  {
   "cell_type": "markdown",
   "metadata": {
    "id": "4Ox1Z9PkLPfv"
   },
   "source": [
    "위에서 저장해두었던 `train_len`을 인덱스로 활용해서 `:train_len`까지는 학습 데이터, 즉 x에 저장하고, `train_len:` 부터는 실제로 추론을 해야 하는 테스트 데이터, 즉 `sub` 변수에 저장합니다."
   ]
  },
  {
   "cell_type": "code",
   "execution_count": null,
   "metadata": {
    "colab": {
     "base_uri": "https://localhost:8080/"
    },
    "id": "NbcWVP8SKYeg",
    "outputId": "317f80b8-4a93-40af-b068-d8a53fac6b4a"
   },
   "outputs": [],
   "source": [
    "# 모델 학습을 위해 전체 data 파일을 x와 sub로 각각 분리합시다. (앞에 선언해두었던 train_len 변수를 활용할 것)\n",
    "sub = data.iloc[train_len:, :]\n",
    "x = data.iloc[:train_len, :]\n",
    "\n",
    "print(x.shape)\n",
    "print(sub.shape)"
   ]
  },
  {
   "cell_type": "markdown",
   "metadata": {
    "id": "1uQTkC5hpfak"
   },
   "source": [
    "평가지표로는 RMSE를 활용합니다.\n",
    "\n",
    "MSE = $ \\sum {(y - \\hat{y})^2} \\over n $  \n",
    "\n",
    "RMSE = $ \\sqrt {\\sum {(y - \\hat{y})^2} \\over n } $  "
   ]
  },
  {
   "cell_type": "markdown",
   "metadata": {
    "id": "ZwVdFcgRsOHN"
   },
   "source": [
    "#### [TODO] RMSE를 직접 정의해봅니다."
   ]
  },
  {
   "cell_type": "code",
   "execution_count": null,
   "metadata": {
    "id": "DwiXK1JMckpu"
   },
   "outputs": [],
   "source": [
    "# 사이킷런에서 import한 mse를 활용하여 rmse 평가지표를 직접 정의해봅시다. (위의 MSE와 RMSE 식 참고)\n",
    "def root_meam_squared_error(y_test, y_pred):\n",
    "    return ______________________________________________"
   ]
  },
  {
   "cell_type": "code",
   "execution_count": null,
   "metadata": {
    "colab": {
     "base_uri": "https://localhost:8080/",
     "height": 237
    },
    "id": "wMiZYdTwGc4m",
    "outputId": "2db55486-dd49-4e39-bfaf-bb69a6885d14"
   },
   "outputs": [],
   "source": [
    "df = pd.DataFrame({'LinearRegression':'-', 'LogisticRegression':'-', 'SGDRegressor':'-', 'GradientBoostingRegressor':'-', \\\n",
    "                   'XGBRegressor':'-', 'LGBMRegressor':'-', 'RandomForestRegressor':'-'}, index=['MAE', 'MSE', 'R_Squared', 'RMSE'])\n",
    "df"
   ]
  },
  {
   "cell_type": "markdown",
   "metadata": {
    "id": "FM3f2gy0sdK2"
   },
   "source": [
    "#### [TODO] 모델 학습 파이프라인을 구축해봅시다."
   ]
  },
  {
   "cell_type": "code",
   "execution_count": null,
   "metadata": {
    "colab": {
     "base_uri": "https://localhost:8080/"
    },
    "id": "rZ-IALtOaw5j",
    "outputId": "48616f1d-f6fb-449e-e012-5e59bcc7c2d4"
   },
   "outputs": [],
   "source": [
    "# models 변수에는 우리가 학습시키고 싶은 모델들이 들어가 있습니다. 반복문을 통해 각각 학습시키고, 평가지표(mae, mse, r_squared)를 바로 위에 선언한 df 표에 정리해봅시다.\n",
    "for model in models: # models = [lr, logr, sgd, gboost, xgboost, lgbm, rdforest]\n",
    "    # 모델 이름 획득\n",
    "    model_name = model.__class__.__name__\n",
    "\n",
    "    # train, test 분리하기 : train_test_split을 활용합니다, 테스트셋의 비율은 20%로 설정합니다.\n",
    "    X_train, X_test, Y_train, Y_test = _______________(x, y, test_size=0.2, random_state=2023)\n",
    "\n",
    "    # 모델 학습 : fit 메소드를 활용합니다.\n",
    "    print(\"1st Training.. \", model_name)\n",
    "    model.___(______, ______)\n",
    "\n",
    "    # 예측 : predict 메소드를 활용합니다.\n",
    "    Y_pred = model._______(______)\n",
    "\n",
    "    # 평가지표에 기록\n",
    "    df.loc['MAE', [model_name]] = mean_absolute_error(Y_test, Y_pred) # mae\n",
    "    print(model_name, \" mae :\", mean_absolute_error(Y_test, Y_pred))\n",
    "    df.loc['MSE', [model_name]] = mean_squared_error(Y_test, Y_pred) # mse\n",
    "    print(model_name, \" mse :\", mean_squared_error(Y_test, Y_pred))\n",
    "    df.loc['R_Squared', [model_name]] = r2_score(Y_test, Y_pred) # R-Squared\n",
    "    print(model_name, \" r_square :\", r2_score(Y_test, Y_pred))\n",
    "\n",
    "    print(\"------------------------------------------------------\")\n"
   ]
  },
  {
   "cell_type": "code",
   "execution_count": null,
   "metadata": {
    "colab": {
     "base_uri": "https://localhost:8080/"
    },
    "id": "y-t__ScCrgSL",
    "outputId": "8c629ce9-2e26-4a42-a972-fd2183ccdf7d"
   },
   "outputs": [],
   "source": [
    "# models 변수에는 우리가 학습시키고 싶은 모델들이 들어가 있습니다. 반복문을 통해 각각 학습시키고, 나머지 평가지표(rmse) 역시 df 표에 정리해봅시다.\n",
    "for model in models: # models = [lr, logr, sgd, gboost, xgboost, lgbm, rdforest]\n",
    "    if model == logr: # 로지스틱 회귀의 label은 정수형이어야 함 - log 변환으로 현재 y label의 자료형은 float!\n",
    "        continue\n",
    "    elif model == sgd: # sgd ValueError: Input contains infinity or a value too large for dtype('float64').\n",
    "        continue\n",
    "\n",
    "    # 모델 이름 획득\n",
    "    model_name = model.__class__.__name__\n",
    "    # print(model_name)\n",
    "\n",
    "    # rmse를 위한 y_log_transformation\n",
    "    x_train, x_test, y_train, y_test = train_test_split(x, y_log_transformation, test_size=0.2, random_state=2023) #, shuffle=False\n",
    "\n",
    "    # 모델 학습\n",
    "    print(\"2nd Training for rmse... \", model_name)\n",
    "    model.fit(x_train, y_train)\n",
    "\n",
    "    # 예측\n",
    "    y_pred = model.predict(x_test)\n",
    "\n",
    "    # 평가지표에 기록\n",
    "    df.loc['RMSE', [model_name]] = root_meam_squared_error(y_test, y_pred) # rmse\n",
    "    print(model_name, \" rmse :\", root_meam_squared_error(y_test, y_pred))\n",
    "\n",
    "    print(\"-----------------------------------------------------------------\")\n"
   ]
  },
  {
   "cell_type": "code",
   "execution_count": null,
   "metadata": {
    "colab": {
     "base_uri": "https://localhost:8080/",
     "height": 237
    },
    "id": "eIDuI6YZYrc8",
    "outputId": "707d5b92-96c8-457c-bc5e-0be829f94da6"
   },
   "outputs": [],
   "source": [
    "df"
   ]
  },
  {
   "cell_type": "markdown",
   "metadata": {
    "id": "WaxzQ48aKEZi"
   },
   "source": [
    "머신러닝 모델의 평가지표 결과를 다음 표에서 확인할 수 있습니다.   \n",
    "이상탐지를 하기 위해서는 이렇게 회귀 분석만 해서는 조금 부족합니다. 이상이 있다, 그렇지 않다, 분류문제역시 해결해야하기 때문인데, 이후과정에서 한번 같이 살펴보도록 하겠습니다."
   ]
  },
  {
   "cell_type": "markdown",
   "metadata": {
    "id": "sI_WMXPWVfoC"
   },
   "source": [
    "## 3. [실습] Nasa Bearings Dataset을 활용한 회귀분석"
   ]
  },
  {
   "cell_type": "markdown",
   "metadata": {
    "id": "R5UACDpGXjRS"
   },
   "source": [
    "### 3-1. 데이터 소개\n"
   ]
  },
  {
   "cell_type": "markdown",
   "metadata": {
    "id": "PNLHBWzLZywr"
   },
   "source": [
    "![image.png](data:image/png;base64,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)"
   ]
  },
  {
   "cell_type": "markdown",
   "metadata": {
    "id": "Ji8V_rinZWHf"
   },
   "source": [
    "- 4개의 베어링이 축에 설치되어 있고, 마찰 벨트를 통해 축에 연결된 회전속도는 AC 모터에 의해 2000RPM으로 일정하게 유지됨  \n",
    "\n",
    "- 스프링 메커니즘을 통해 축과 베어링에 6000 파운드의 방사하중이 가해짐\n",
    "\n",
    "- 데이터셋1의 경우 각 베어링에 대해 두 개의 가속도계가 설치 (x축, y축)  \n",
    "  (데이터셋2와 3의 경우 각 베어링에 대해 한 개의 가속도계 설치)"
   ]
  },
  {
   "cell_type": "markdown",
   "metadata": {
    "id": "GH-StuvVZpoB"
   },
   "source": [
    "### 3-2. 알고리즘 동작 원리"
   ]
  },
  {
   "cell_type": "markdown",
   "metadata": {
    "id": "RqqbkgVeW0UL"
   },
   "source": [
    "알고리즘 동작 원리는 다음과 같습니다.\n",
    "\n",
    "1. 원시 데이터를 가져와 몇 가지 특성(Max Value, Standard Deviation, Frequency Bands 등)을 추출합니다.\n",
    "\n",
    "2. 머신 러닝 모델을 학습시켜 다음 시간 단계에서 이러한 특성들을 예측하도록 합니다.\n",
    "\n",
    "3. 실제 값과 예측 값 사이의 오차를 계산합니다.\n",
    "\n",
    "4. 제곱 오차가 훈련 세트의 오차의 표준 편차에 특정한 요소를 곱한 것보다 크다면, 첫 번째 수준의 경보를 발생시킵니다.\n",
    "\n",
    "5. 일정 시간 윈도우 내에서 발생한 첫 번째 수준 경보의 백분율을 측정합니다. 해당 백분율이 특정 임계값을 초과한다면, 두 번째 수준의 경보를 발생시킵니다.\n",
    "\n",
    "6. 두 번째 수준 경보가 발생한다면 기계는 고장이나 곧 고장날 가능성이 있으므로 유지보수가 필요합니다."
   ]
  },
  {
   "cell_type": "markdown",
   "metadata": {
    "id": "JHe80-hpW-WJ"
   },
   "source": [
    "위와 같은 알고리즘은 주로 이상 탐지에 사용되며, 주어진 데이터에서 예측된 특성과 실제 값 간의 오차를 계산하여 시스템의 이상 여부를 판단합니다.\n",
    "  \n",
    "머신러닝 모델을 사용하여 훈련 데이터에서 이러한 특성을 학습하고, 오차의 크기를 통해 경보 수준을 결정하게 됩니다.  \n",
    "\n",
    "이상 탐지 알고리즘을 통해 기계의 고장을 사전에 예측하고 유지보수가 필요한 시점을 파악할 수 있습니다."
   ]
  },
  {
   "cell_type": "markdown",
   "metadata": {
    "id": "DUEx9AykYbPx"
   },
   "source": [
    "## 4. NASA Bearing 데이터를 활용한 분석"
   ]
  },
  {
   "cell_type": "markdown",
   "metadata": {
    "id": "8AlxA_dhYiut"
   },
   "source": [
    "**[실습 목표]**\n",
    "- 다양한 머신러닝 모델을 활용한 건설기계 수명 예측 실습\n",
    "- 다양한 평가지표를 활용한 학습결과 평가 과정 이해\n",
    "  \n",
    "우리가 머신러닝을 학습시키기 위해서는 학습 레이블이 필요합니다.  \n",
    "\n",
    "다만, 현재 NASA Bearing Dataset은 베어링 관측치만 존재하기에 커스터마이징한 정답 label이 필요합니다.  \n",
    "\n",
    "그래서 저희는 시점을 기준으로 추후 Health Status라는 label을 따로 추가하여 분류 모델을 활용해 실습을 진행합니다. (회귀 모델과 동작 파이프라인은 유사합니다)\n",
    "  \n",
    "\n",
    "### 4-1. 필요 라이브러리 import"
   ]
  },
  {
   "cell_type": "code",
   "execution_count": null,
   "metadata": {
    "id": "zwqBXRXRbGPD"
   },
   "outputs": [],
   "source": [
    "import os\n",
    "import pandas as pd\n",
    "pd.options.display.max_columns = None\n",
    "import numpy as np\n",
    "import matplotlib.pyplot as plt\n",
    "\n",
    "import warnings\n",
    "warnings.filterwarnings(\"ignore\")\n",
    "\n",
    "from scipy.stats import entropy\n",
    "from sklearn.decomposition import PCA\n",
    "from scipy.optimize import curve_fit\n",
    "\n",
    "from sklearn import preprocessing\n",
    "from sklearn.model_selection import train_test_split\n",
    "\n",
    "import xgboost as xgb\n",
    "import catboost as cb\n",
    "import lightgbm as lgbm\n",
    "from sklearn.metrics import accuracy_score,f1_score\n",
    "from sklearn.preprocessing import StandardScaler\n",
    "from sklearn.neural_network import MLPClassifier\n",
    "from sklearn.neighbors import KNeighborsClassifier\n",
    "from sklearn.svm import SVC\n",
    "from sklearn.gaussian_process import GaussianProcessClassifier\n",
    "from sklearn.gaussian_process.kernels import RBF\n",
    "from sklearn.tree import DecisionTreeClassifier\n",
    "from sklearn.ensemble import RandomForestClassifier, AdaBoostClassifier\n",
    "from sklearn.naive_bayes import GaussianNB\n",
    "from sklearn.discriminant_analysis import QuadraticDiscriminantAnalysis\n"
   ]
  },
  {
   "cell_type": "markdown",
   "metadata": {
    "id": "mt9Krz0K29xT"
   },
   "source": [
    "### 4-2. 데이터셋 불러오기"
   ]
  },
  {
   "cell_type": "code",
   "execution_count": null,
   "metadata": {
    "id": "1LEocE0CzyB2"
   },
   "outputs": [],
   "source": [
    "# - 1st Set\n",
    "dataset_path_1st = './data/1st_test/1st_test/'\n",
    "# - 2nd Set\n",
    "dataset_path_2nd = './data/2nd_test/2nd_test/'\n",
    "# - 3rd Set\n",
    "dataset_path_3rd = './data/3rd_test/3rd_test/'"
   ]
  },
  {
   "cell_type": "code",
   "execution_count": null,
   "metadata": {
    "colab": {
     "base_uri": "https://localhost:8080/",
     "height": 563
    },
    "id": "u8HMe_QZz6gX",
    "outputId": "e948e2e3-18ff-481b-85a2-19520622272f"
   },
   "outputs": [],
   "source": [
    "# Test for the first file\n",
    "dataset = pd.read_csv(f'{dataset_path_1st}2003.10.22.12.06.24', sep='\\t')\n",
    "ax = dataset.plot(figsize = (24,6), title= \"Bearing Vibration\" , legend = True)\n",
    "ax.set(xlabel=\"cycle(n)\", ylabel=\"vibration/acceleration(g)\")\n",
    "plt.show()"
   ]
  },
  {
   "cell_type": "markdown",
   "metadata": {
    "id": "x-YjMSyf3Ale"
   },
   "source": [
    "### 4-3. 데이터 전처리하기\n",
    "\n",
    "해당 데이터는 베어링의 진동을 그대로 기록한 데이터이기 때문에, 그냥 사용할시, 그 의미를 파악하기 어렵습니다. 데이터로부터 특징을 추출하기 위한 다양한 함수를 설계합니다."
   ]
  },
  {
   "cell_type": "markdown",
   "metadata": {
    "id": "BWSvTUASn04L"
   },
   "source": [
    "#### [TODO] RMS\n",
    "* calculate_rms 함수는 DataFrame의 각 열에 대해 Root Mean Squared(RMS)를 계산합니다.\n",
    "* 각 열의 값들을 제곱하고, 그 합을 구한 후 열의 길이로 나눕니다. 그 결과의 제곱근을 구하여 RMS를 계산합니다.\n",
    "* 계산된 각 열의 RMS 값들을 리스트로 반환합니다."
   ]
  },
  {
   "cell_type": "code",
   "execution_count": null,
   "metadata": {
    "id": "oy3wHmSAz7Sw"
   },
   "outputs": [],
   "source": [
    "def calculate_rms(df):\n",
    "    result = []\n",
    "    for col in df:\n",
    "        r = ________________________________________\n",
    "        result.append(r)\n",
    "    return result"
   ]
  },
  {
   "cell_type": "markdown",
   "metadata": {
    "id": "Aiwn9AVgoVSc"
   },
   "source": [
    "#### [TODO] P2P\n",
    "* calculate_p2p 함수는 DataFrame의 각 열에 대해 Peak-to-Peak(P2P) 값을 계산합니다.\n",
    "* 각 열의 최대값과 최소값의 절대값을 각각 계산한 후 더합니다.\n",
    "* 계산된 각 열의 P2P 값들을 numpy 배열로 반환합니다."
   ]
  },
  {
   "cell_type": "code",
   "execution_count": null,
   "metadata": {
    "id": "eJJTQ13uz9S8"
   },
   "outputs": [],
   "source": [
    "def calculate_p2p(df):\n",
    "    return np.array(________________________________)"
   ]
  },
  {
   "cell_type": "markdown",
   "metadata": {
    "id": "kR5LbsOnom7G"
   },
   "source": [
    "#### [TODO] Shannon entropy\n",
    "* calculate_entropy 함수는 DataFrame의 각 열에 대해 샤넌 엔트로피를 계산하는 데 사용됩니다.\n",
    "* 각 열을 500개의 구간으로 나누고, 각 구간에 속하는 값들의 개수를 기반으로 엔트로피를 계산합니다.\n",
    "* 이 함수는 데이터의 복잡성 또는 불확실성을 측정하는 샤넌 엔트로피를 계산하는 데 사용될 수 있으며, 이는 정보 이론, 데이터 압축, 기계 학습 등 다양한 분야에서 중요한 개념입니다."
   ]
  },
  {
   "cell_type": "code",
   "execution_count": null,
   "metadata": {
    "id": "aoI5Xpfmz-QN"
   },
   "outputs": [],
   "source": [
    "def calculate_entropy(df):\n",
    "    ent = []\n",
    "    for col in df:\n",
    "        ent.append(entropy(pd.cut(____, __).value_counts()))\n",
    "    return np.array(ent)"
   ]
  },
  {
   "cell_type": "markdown",
   "metadata": {
    "id": "0V8j4X75o4h2"
   },
   "source": [
    "#### [TODO] Clearance Factor 계산\n",
    "\n",
    "* calculate_clearence 함수는 주어진 DataFrame의 각 열에 대해 Clearance Factor를 계산하는 데 사용됩니다.\n",
    "* 각 열의 값들의 절대값의 제곱근을 구하고, 이를 모두 합친 후 열의 길이로 나눕니다. 그리고 이 결과를 제곱하여 Clearance Factor를 계산합니다.\n",
    "* Clearance Factor는 기계 진동 분석에서 특히 유용하며, 기계의 오차나 결함을 탐지하는데 사용되는 지표입니다. 이는 베어링의 결함 등을 탐지하는데 특히 유용하며, 기계의 상태 모니터링 및 진단에 사용됩니다."
   ]
  },
  {
   "cell_type": "code",
   "execution_count": null,
   "metadata": {
    "id": "fz4NYDf8z_Cf"
   },
   "outputs": [],
   "source": [
    "def calculate_clearence(df):\n",
    "    result = []\n",
    "    for col in df:\n",
    "        r = ___________________________________________\n",
    "        result.append(r)\n",
    "    return result"
   ]
  },
  {
   "cell_type": "markdown",
   "metadata": {
    "id": "F-VDqIA3pMyI"
   },
   "source": [
    "### 4-4 Time Feature 추출\n",
    "\n",
    "* time_features 함수는 주어진 데이터셋 경로에서 파일을 읽어들여 시간 영역 특성을 계산하고 이를 정리된 DataFrame으로 반환하는 역할을 합니다. 계산되는 특성들은 평균, 표준편차, 왜도, 첨도, 엔트로피, RMS, 최대값, 그리고 위에서 계산한 Peak-to-Peak, crest factor, clearance factor, shape factor, 그리고 impulse factor입니다.\n",
    "* 함수는 먼저 데이터셋의 각 파일에서 raw 데이터를 읽어들인 후, 각각의 특성을 계산합니다. 그 후, 각 계산 결과를 별도의 DataFrame으로 만들고 이를 모두 결합(concat)합니다.\n",
    "* 이 함수는 두 가지 버전의 열 세트(cols1과 cols2)를 다룰 수 있도록 설계되어 있으며, id_set 매개변수를 통해 원하는 열 세트를 선택할 수 있습니다.\n",
    "* 최종적으로, 모든 데이터 파일에 대한 시간 영역 특성이 포함된 DataFrame이 반환됩니다. 이 DataFrame의 인덱스는 시간으로 설정되며, 시간 순으로 정렬됩니다. 이 함수는 시계열 데이터 분석, 신호 처리, 기계 학습 등 다양한 분야에서 데이터 전처리를 위해 사용될 수 있습니다."
   ]
  },
  {
   "cell_type": "code",
   "execution_count": null,
   "metadata": {
    "id": "flQoP7BK0AW8"
   },
   "outputs": [],
   "source": [
    "def time_features(dataset_path, id_set=None):\n",
    "    from tqdm import tqdm\n",
    "    time_features = ['mean','std','skew','kurtosis','entropy','rms','max','p2p', 'crest', 'clearence', 'shape', 'impulse']\n",
    "    cols1 = ['B1_x','B1_y','B2_x','B2_y','B3_x','B3_y','B4_x','B4_y']\n",
    "    cols2 = ['B1','B2','B3','B4']\n",
    "\n",
    "    # initialize\n",
    "    if id_set == 1:\n",
    "        columns = [c+'_'+tf for c in cols1 for tf in time_features]\n",
    "        data = pd.DataFrame(columns=columns)\n",
    "    else:\n",
    "        columns = [c+'_'+tf for c in cols2 for tf in time_features]\n",
    "        data = pd.DataFrame(columns=columns)\n",
    "\n",
    "\n",
    "    for filename in tqdm(os.listdir(dataset_path)):\n",
    "        # read dataset\n",
    "        raw_data = pd.read_csv(os.path.join(dataset_path, filename), sep='\\t')\n",
    "\n",
    "        # time features\n",
    "        mean_abs = np.array(raw_data.abs().mean())\n",
    "        std = np.array(raw_data.std())\n",
    "        skew = np.array(raw_data.skew())\n",
    "        kurtosis = np.array(raw_data.kurtosis())\n",
    "        entropy = calculate_entropy(raw_data)\n",
    "        rms = np.array(calculate_rms(raw_data))\n",
    "        max_abs = np.array(raw_data.abs().max())\n",
    "        p2p = calculate_p2p(raw_data)\n",
    "        crest = max_abs/rms\n",
    "        clearence = np.array(calculate_clearence(raw_data))\n",
    "        shape = rms / mean_abs\n",
    "        impulse = max_abs / mean_abs\n",
    "\n",
    "        if id_set == 1:\n",
    "            mean_abs = pd.DataFrame(mean_abs.reshape(1,8), columns=[c+'_mean' for c in cols1])\n",
    "            std = pd.DataFrame(std.reshape(1,8), columns=[c+'_std' for c in cols1])\n",
    "            skew = pd.DataFrame(skew.reshape(1,8), columns=[c+'_skew' for c in cols1])\n",
    "            kurtosis = pd.DataFrame(kurtosis.reshape(1,8), columns=[c+'_kurtosis' for c in cols1])\n",
    "            entropy = pd.DataFrame(entropy.reshape(1,8), columns=[c+'_entropy' for c in cols1])\n",
    "            rms = pd.DataFrame(rms.reshape(1,8), columns=[c+'_rms' for c in cols1])\n",
    "            max_abs = pd.DataFrame(max_abs.reshape(1,8), columns=[c+'_max' for c in cols1])\n",
    "            p2p = pd.DataFrame(p2p.reshape(1,8), columns=[c+'_p2p' for c in cols1])\n",
    "            crest = pd.DataFrame(crest.reshape(1,8), columns=[c+'_crest' for c in cols1])\n",
    "            clearence = pd.DataFrame(clearence.reshape(1,8), columns=[c+'_clearence' for c in cols1])\n",
    "            shape = pd.DataFrame(shape.reshape(1,8), columns=[c+'_shape' for c in cols1])\n",
    "            impulse = pd.DataFrame(impulse.reshape(1,8), columns=[c+'_impulse' for c in cols1])\n",
    "\n",
    "        else:\n",
    "            mean_abs = pd.DataFrame(mean_abs.reshape(1,4), columns=[c+'_mean' for c in cols2])\n",
    "            std = pd.DataFrame(std.reshape(1,4), columns=[c+'_std' for c in cols2])\n",
    "            skew = pd.DataFrame(skew.reshape(1,4), columns=[c+'_skew' for c in cols2])\n",
    "            kurtosis = pd.DataFrame(kurtosis.reshape(1,4), columns=[c+'_kurtosis' for c in cols2])\n",
    "            entropy = pd.DataFrame(entropy.reshape(1,4), columns=[c+'_entropy' for c in cols2])\n",
    "            rms = pd.DataFrame(rms.reshape(1,4), columns=[c+'_rms' for c in cols2])\n",
    "            max_abs = pd.DataFrame(max_abs.reshape(1,4), columns=[c+'_max' for c in cols2])\n",
    "            p2p = pd.DataFrame(p2p.reshape(1,4), columns=[c+'_p2p' for c in cols2])\n",
    "            crest = pd.DataFrame(crest.reshape(1,4), columns=[c+'_crest' for c in cols2])\n",
    "            clearence = pd.DataFrame(clearence.reshape(1,4), columns=[c+'_clearence' for c in cols2])\n",
    "            shape = pd.DataFrame(shape.reshape(1,4), columns=[c+'_shape' for c in cols2])\n",
    "            impulse = pd.DataFrame(impulse.reshape(1,4), columns=[c+'_impulse' for c in cols2])\n",
    "\n",
    "        mean_abs.index = [filename]\n",
    "        std.index = [filename]\n",
    "        skew.index = [filename]\n",
    "        kurtosis.index = [filename]\n",
    "        entropy.index = [filename]\n",
    "        rms.index = [filename]\n",
    "        max_abs.index = [filename]\n",
    "        p2p.index = [filename]\n",
    "        crest.index = [filename]\n",
    "        clearence.index = [filename]\n",
    "        shape.index = [filename]\n",
    "        impulse.index = [filename]\n",
    "\n",
    "        # concat\n",
    "        merge = pd.concat([mean_abs, std, skew, kurtosis, entropy, rms, max_abs, p2p,crest,clearence, shape, impulse], axis=1)\n",
    "        data = pd.concat([data,merge],axis=0) ## use pandas.concat instead.\n",
    "\n",
    "    if id_set == 1:\n",
    "        cols = [c+'_'+tf for c in cols1 for tf in time_features]\n",
    "        data = data[cols]\n",
    "    else:\n",
    "        cols = [c+'_'+tf for c in cols2 for tf in time_features]\n",
    "        data = data[cols]\n",
    "\n",
    "    data.index = pd.to_datetime(data.index, format='%Y.%m.%d.%H.%M.%S')\n",
    "    data = data.sort_index()\n",
    "    return data"
   ]
  },
  {
   "cell_type": "code",
   "execution_count": null,
   "metadata": {
    "id": "ccIBKVTU0Cc7",
    "outputId": "641a1a3a-62c6-4d5c-a624-44347037ff8c"
   },
   "outputs": [],
   "source": [
    "# 다음 실습 때도 바로 불러올 수 있도록 csv 파일로 변환합니다.\n",
    "set1 = time_features(dataset_path_1st, id_set=1)\n",
    "set1.to_csv('data/set1_timefeatures.csv')"
   ]
  },
  {
   "cell_type": "markdown",
   "metadata": {
    "id": "50m4GIT7xzL3"
   },
   "source": [
    "데이터의 크기가 아주 크기 때문에 변환 작업이 오래 걸릴 수 있습니다. 다음 실습 때도 바로 불러올 수 있도록 변환된 csv 파일을 data 폴더 경로에 저장해둡니다."
   ]
  },
  {
   "cell_type": "code",
   "execution_count": null,
   "metadata": {
    "id": "eHUan2Ne0EOJ"
   },
   "outputs": [],
   "source": [
    "set1 = pd.read_csv(\"data/set1_timefeatures.csv\")"
   ]
  },
  {
   "cell_type": "code",
   "execution_count": null,
   "metadata": {
    "colab": {
     "base_uri": "https://localhost:8080/",
     "height": 823
    },
    "id": "EH4FvFFg0FL-",
    "outputId": "11f9ce5b-e997-476f-ddfd-23c3d51b578d"
   },
   "outputs": [],
   "source": [
    "set1 = set1.rename(columns={'Unnamed: 0':'time'})\n",
    "last_cycle = int(len(set1)) # 전체 사이클\n",
    "\n",
    "set1"
   ]
  },
  {
   "cell_type": "markdown",
   "metadata": {
    "id": "3ar9s7mG0MbC"
   },
   "source": [
    "이동 평균 필터(또는 롤링 평균, 러닝 평균으로도 알려져 있음)는 시계열 데이터의 이동 가중합을 계산하는 시계열 필터입니다.\n",
    "  \n",
    "간단한 이동 평균, 누적 이동 평균 및 지수 이동 평균 방법이 특성 데이터에 적용되어 데이터를 부드럽게 처리합니다."
   ]
  },
  {
   "cell_type": "markdown",
   "metadata": {
    "id": "K8VH3_G13Rem"
   },
   "source": [
    "경험적으로 EMA(40)이 필터링에 가장 적합하다는 결론에 도달합니다. → 실제 데이터의 움직임을 가장 잘 반영하기 때문"
   ]
  },
  {
   "cell_type": "code",
   "execution_count": null,
   "metadata": {
    "colab": {
     "base_uri": "https://localhost:8080/",
     "height": 361
    },
    "id": "IiH_Z83G0FpY",
    "outputId": "7db3fd0d-3419-448d-db21-47fc0759f24f"
   },
   "outputs": [],
   "source": [
    "set1.describe()"
   ]
  },
  {
   "cell_type": "markdown",
   "metadata": {
    "id": "9oJnuEr6ppK_"
   },
   "source": [
    "### 4-5 시각화\n",
    " 베어링마다 cycle별 \"mean\",\"std\",\"skew\",\"kurtosis\",\"entropy\",\"rms\",\"max\",\"p2p\", \"crest\", \"clearence\", \"shape\", \"impulse\"를 시각화해봅시다.\n",
    "\n",
    "* 각 베어링의 x와 y 데이터에 대한 특성을 개별 서브플롯에 표시합니다. 각 베어링에 대한 x-y 데이터는 같은 그래프에 겹쳐서 그려집니다.\n",
    "* 시각화는 Matplotlib 라이브러리를 사용하며, 각 특성에 대해 별도의 그림(figure)를 생성합니다. 각 그림 내에는 4개의 서브플롯이 있으며, 각 서브플롯은 베어링 1부터 4까지를 나타냅니다.\n",
    "* 그래프에는 베어링 번호와 특성 이름을 포함하는 타이틀과 \"cycle\"과 \"value\"라는 x, y축 레이블이 포함됩니다.\n",
    "* 베어링 데이터의 시간에 따른 변화와 각 특성의 동향을 시각적으로 살펴볼 수 있습니다. 이는 패턴 분석, 이상 탐지, 시스템 진단 등의 작업에 유용할 수 있습니다."
   ]
  },
  {
   "cell_type": "code",
   "execution_count": null,
   "metadata": {
    "colab": {
     "base_uri": "https://localhost:8080/",
     "height": 1000
    },
    "id": "1rYWNWO30blf",
    "outputId": "9cd6d51f-39cf-4a70-a308-40f19fc1bf96"
   },
   "outputs": [],
   "source": [
    "time_features_list = [\"mean\",\"std\",\"skew\",\"kurtosis\",\"entropy\",\"rms\",\"max\",\"p2p\", \"crest\", \"clearence\", \"shape\", \"impulse\"]\n",
    "bearings_xy = [[\"B\"+str(n)+\"_\"+str(o)+\"_\" for n in range(1,5)] for o in ['x','y'] ]\n",
    "for tf in time_features_list:\n",
    "    fig = plt.figure()\n",
    "    ax1 = fig.add_subplot(141)\n",
    "    ax2 = fig.add_subplot(142)\n",
    "    ax3 = fig.add_subplot(143)\n",
    "    ax4 = fig.add_subplot(144)\n",
    "    axes = [ax1,ax2,ax3, ax4]\n",
    "\n",
    "    for i in range(4):\n",
    "        col = bearings_xy[0][i]+tf\n",
    "        set1[col].plot(figsize = (36,6), title=\"Bearing{} x-y_\".format(i+1)+tf , legend = True, ax=axes[i])\n",
    "        col = bearings_xy[1][i]+tf\n",
    "        set1[col].plot(figsize = (36,6) , legend = True, ax=axes[i])\n",
    "        axes[i].set(xlabel=\"cycle\", ylabel=\"value\")"
   ]
  },
  {
   "cell_type": "markdown",
   "metadata": {
    "id": "zPBCgi-m8SIb"
   },
   "source": [
    "4개의 베어링에 대해서 x축, y축에 대한 진동의 평균, 표준편차, 엔트로피의 값들을 시각화해보니, 각각의 베어링의 진폭의 경향성이 유사함을 볼 수 있습니다.\n",
    "\n",
    "Creat factor(융기인자)나 베어링의 Clearance(틈새), 엔트로피 등의 그래프 경향성을 보니 수명주기를 러프하게나마 예측 할 수 있을 것 같기도 합니다.\n",
    "\n",
    "실제로 머신러닝을 학습시켜서 저희가 예측한 주기와 유사하게 맞아떨어지는지 확인해보는 작업이 필요할 것 같습니다."
   ]
  },
  {
   "cell_type": "markdown",
   "metadata": {
    "id": "a1MPtpFJ0ez_"
   },
   "source": [
    "\n",
    "이제 머신러닝 학습을 위한 **'Health Status'라는 정답 레이블을 추가** 합니다."
   ]
  },
  {
   "cell_type": "code",
   "execution_count": null,
   "metadata": {
    "id": "Ev27LpID0dAy"
   },
   "outputs": [],
   "source": [
    "B1 ={\n",
    "    \"early\" : [\"2003-10-22 12:06:24\" , \"2003-10-23 09:14:13\"],\n",
    "    \"suspect\" : [\"2003-10-23 09:24:13\" , \"2003-11-08 12:11:44\"],\n",
    "    \"normal\" : [\"2003-11-08 12:21:44\" , \"2003-11-19 21:06:07\"],\n",
    "    \"suspect_1\" : [\"2003-11-19 21:16:07\" , \"2003-11-24 20:47:32\"],\n",
    "    \"imminent_failure\" : [\"2003-11-24 20:57:32\",\"2003-11-25 23:39:56\"]\n",
    "}\n",
    "B2 = {\n",
    "    \"early\" : [\"2003-10-22 12:06:24\" , \"2003-11-01 21:41:44\"],\n",
    "    \"normal\" : [\"2003-11-01 21:51:44\" , \"2003-11-24 01:01:24\"],\n",
    "    \"suspect\" : [\"2003-11-24 01:11:24\" , \"2003-11-25 10:47:32\"],\n",
    "    \"imminient_failure\" : [\"2003-11-25 10:57:32\" , \"2003-11-25 23:39:56\"]\n",
    "}\n",
    "\n",
    "B3 = {\n",
    "    \"early\" : [\"2003-10-22 12:06:24\" , \"2003-11-01 21:41:44\"],\n",
    "    \"normal\" : [\"2003-11-01 21:51:44\" , \"2003-11-22 09:16:56\"],\n",
    "    \"suspect\" : [\"2003-11-22 09:26:56\" , \"2003-11-25 10:47:32\"],\n",
    "    \"Inner_race_failure\" : [\"2003-11-25 10:57:32\" , \"2003-11-25 23:39:56\"]\n",
    "}\n",
    "\n",
    "B4 = {\n",
    "    \"early\" : [\"2003-10-22 12:06:24\" , \"2003-10-29 21:39:46\"],\n",
    "    \"normal\" : [\"2003-10-29 21:49:46\" , \"2003-11-15 05:08:46\"],\n",
    "    \"suspect\" : [\"2003-11-15 05:18:46\" , \"2003-11-18 19:12:30\"],\n",
    "    \"Rolling_element_failure\" : [\"2003-11-19 09:06:09\" , \"2003-11-22 17:36:56\"],\n",
    "    \"Stage_two_failure\" : [\"2003-11-22 17:46:56\" , \"2003-11-25 23:39:56\"]\n",
    "}"
   ]
  },
  {
   "cell_type": "markdown",
   "metadata": {
    "id": "z7Mk23Ckp4DN"
   },
   "source": [
    "### 4-6 베어링의 상태값 추출"
   ]
  },
  {
   "cell_type": "code",
   "execution_count": null,
   "metadata": {
    "colab": {
     "base_uri": "https://localhost:8080/",
     "height": 506
    },
    "id": "VQxkjQYK0p27",
    "outputId": "14b7e118-0f07-4770-dc9b-fca6e44aab9d"
   },
   "outputs": [],
   "source": [
    "\n",
    "B1_state = list()\n",
    "B2_state = list()\n",
    "B3_state = list()\n",
    "B4_state = list()\n",
    "cnt = 0\n",
    "\n",
    "for row in set1[\"time\"]:\n",
    "    cnt += 1\n",
    "    # B1\n",
    "    if cnt<=151:\n",
    "        B1_state.append(\"early\")\n",
    "    if 151 < cnt <=600:\n",
    "        B1_state.append(\"suspect\")\n",
    "    if 600 < cnt <=1499:\n",
    "        B1_state.append(\"normal\")\n",
    "    if 1499 < cnt <=2098:\n",
    "        B1_state.append(\"suspect\")\n",
    "    if 2098 < cnt <= 2156:\n",
    "        B1_state.append(\"imminent_failure\")\n",
    "\n",
    "    #B2\n",
    "    if cnt<=500:\n",
    "        B2_state.append(\"early\")\n",
    "    if 500 < cnt <=2000:\n",
    "        B2_state.append(\"normal\")\n",
    "    if 2000 < cnt <=2120:\n",
    "        B2_state.append(\"suspect\")\n",
    "    if 2120< cnt <=2156:\n",
    "        B2_state.append(\"imminet_failure\")\n",
    "\n",
    "    #B3\n",
    "    if cnt<=500:\n",
    "        B3_state.append(\"early\")\n",
    "    if 500 < cnt <= 1790:\n",
    "        B3_state.append(\"normal\")\n",
    "    if 1790 < cnt <=2120:\n",
    "        B3_state.append(\"suspect\")\n",
    "    if 2120 < cnt <=2156:\n",
    "        B3_state.append(\"Inner_race_failure\")\n",
    "\n",
    "    #B4\n",
    "    if cnt<=200:\n",
    "        B4_state.append(\"early\")\n",
    "    if 200 < cnt <=1000:\n",
    "        B4_state.append(\"normal\")\n",
    "    if 1000 < cnt <= 1435:\n",
    "        B4_state.append(\"suspect\")\n",
    "    if 1435 < cnt <=1840:\n",
    "        B4_state.append(\"Inner_race_failure\")\n",
    "    if 1840 < cnt <=2156:\n",
    "        B4_state.append(\"Stage_two_failure\")\n",
    "\n",
    "# controlling the counts\n",
    "from collections import Counter\n",
    "print(Counter(B1_state))\n",
    "print(Counter(B2_state))\n",
    "print(Counter(B3_state))\n",
    "print(Counter(B4_state))\n",
    "\n",
    "set1[\"B1_state\"] = B1_state\n",
    "set1[\"B2_state\"] = B2_state\n",
    "set1[\"B3_state\"] = B3_state\n",
    "set1[\"B4_state\"] = B4_state\n",
    "\n",
    "set1.head()"
   ]
  },
  {
   "cell_type": "code",
   "execution_count": null,
   "metadata": {
    "colab": {
     "base_uri": "https://localhost:8080/",
     "height": 361
    },
    "id": "Y1RtrPV70qmH",
    "outputId": "2acd6b7c-2204-4ad9-ea28-f2f38f1c0bc2"
   },
   "outputs": [],
   "source": [
    "B1_cols = [col for col in set1.columns if \"B1\" in col]\n",
    "B2_cols = [col for col in set1.columns if \"B2\" in col]\n",
    "B3_cols = [col for col in set1.columns if \"B3\" in col]\n",
    "B4_cols = [col for col in set1.columns if \"B4\" in col]\n",
    "\n",
    "B1 = set1[B1_cols]\n",
    "B2 = set1[B2_cols]\n",
    "B3 = set1[B3_cols]\n",
    "B4 = set1[B4_cols]\n",
    "\n",
    "cols = ['Bx_mean','Bx_std','Bx_skew','Bx_kurtosis','Bx_entropy','Bx_rms','Bx_max','Bx_p2p','Bx_crest', 'Bx_clearence', 'Bx_shape', 'Bx_impulse',\n",
    "        'By_mean','By_std','By_skew','By_kurtosis','By_entropy','By_rms','By_max','By_p2p','By_crest', 'By_clearence', 'By_shape', 'By_impulse',\n",
    "        'class']\n",
    "B1.columns = cols\n",
    "B2.columns = cols\n",
    "B3.columns = cols\n",
    "B4.columns = cols\n",
    "\n",
    "final_data = pd.concat([B1,B2,B3,B4], axis=0, ignore_index=True)\n",
    "final_data.describe()"
   ]
  },
  {
   "cell_type": "code",
   "execution_count": null,
   "metadata": {
    "colab": {
     "base_uri": "https://localhost:8080/",
     "height": 483
    },
    "id": "tvzrGbEN0wjr",
    "outputId": "8ab2e830-7f74-42ca-fa90-0a89c8e906c3"
   },
   "outputs": [],
   "source": [
    "# 모델 학습에 활용할 최종 데이터를 출력해봅니다.\n",
    "final_data"
   ]
  },
  {
   "cell_type": "markdown",
   "metadata": {
    "id": "cVHRPWtnqjQw"
   },
   "source": [
    "### 4-7 모델 학습"
   ]
  },
  {
   "cell_type": "markdown",
   "metadata": {
    "id": "JsV7PU-puk8G"
   },
   "source": [
    "#### [TODO] 모델 학습을 위한 데이터셋 구성과 모델 학습을 진행해봅시다."
   ]
  },
  {
   "cell_type": "code",
   "execution_count": null,
   "metadata": {
    "id": "j9ffPgT501Zm"
   },
   "outputs": [],
   "source": [
    "# 모델 학습을 위한 데이터셋 구성\n",
    "X = final_data.copy()\n",
    "y = X.pop(\"class\")\n",
    "le = preprocessing.LabelEncoder()\n",
    "le.fit(y)\n",
    "y = le.transform(y)\n",
    "\n",
    "# train_test_split을 활용한 trainset과 testset 분리\n",
    "X_train, X_test, y_train, y_test = _____________(_, _, test_size = 0.3, random_state =1)"
   ]
  },
  {
   "cell_type": "code",
   "execution_count": null,
   "metadata": {
    "colab": {
     "base_uri": "https://localhost:8080/"
    },
    "id": "WyoNqmNu1FOX",
    "outputId": "6b74798f-2983-454d-f710-d01f683242b1"
   },
   "outputs": [],
   "source": [
    "# XGBoost를 활용하여 학습합니다. XGBClassifier 모델을 활용하세요.\n",
    "xgb_cl = xgb.______________(use_label_encoder=False)\n",
    "xgb_cl.___(X_train, y_train)\n",
    "\n",
    "preds = xgb_cl.predict(X_test)\n",
    "accuracy_score(y_test, preds)"
   ]
  },
  {
   "cell_type": "code",
   "execution_count": null,
   "metadata": {
    "colab": {
     "base_uri": "https://localhost:8080/"
    },
    "id": "IXbNPjM01GdN",
    "outputId": "5e504fe6-0b7a-485e-d5d2-956cc2ded967"
   },
   "outputs": [],
   "source": [
    "time_features_list = [\"mean\",\"std\",\"skew\",\"kurtosis\",\"entropy\",\"rms\",\"max\",\"p2p\", \"crest\", \"clearence\", \"shape\", \"impulse\"]\n",
    "\n",
    "x_axis_cols = [\"Bx_\"+tf for tf in time_features_list]\n",
    "print(x_axis_cols)\n",
    "X_x = X.copy()\n",
    "X_x = X[x_axis_cols]\n",
    "cols = ['B_mean','B_std','B_skew','B_kurtosis','B_entropy',\n",
    "        'B_rms','B_max','B_p2p','B_crest', 'B_clearence', 'B_shape', 'B_impulse']\n",
    "X_x.columns = cols\n",
    "X_x_train, X_x_test, y_train, y_test = train_test_split(X_x, y, test_size = 0.3, random_state =1)"
   ]
  },
  {
   "cell_type": "code",
   "execution_count": null,
   "metadata": {
    "colab": {
     "base_uri": "https://localhost:8080/"
    },
    "id": "pSaqUSTG1MI1",
    "outputId": "9a2a358d-3eb2-4519-fb8a-862a5e022995"
   },
   "outputs": [],
   "source": [
    "# 다양한 모델에 학습시켜보기\n",
    "names = [\"Nearest Neighbors\", \"Linear SVM\", \"RBF SVM\",\n",
    "         \"Decision Tree\", \"Random Forest\", \"Neural Net\", \"AdaBoost\",\n",
    "         \"Naive Bayes\", \"QDA\",\"XGBoost\",\"CatGBoost\",\"LightGBoost\"]\n",
    "\n",
    "classifiers = [\n",
    "    KNeighborsClassifier(3),\n",
    "    SVC(kernel=\"linear\", C=0.025),\n",
    "    SVC(gamma=2, C=1),\n",
    "    DecisionTreeClassifier(max_depth=5),\n",
    "    RandomForestClassifier(max_depth=5, n_estimators=10, max_features=1),\n",
    "    MLPClassifier(alpha=1, max_iter=1000),\n",
    "    AdaBoostClassifier(),\n",
    "    GaussianNB(),\n",
    "    QuadraticDiscriminantAnalysis(),\n",
    "    xgb.XGBClassifier(),\n",
    "    cb.CatBoostClassifier(verbose = False),\n",
    "    ]\n",
    "\n",
    "for name, clf in zip(names, classifiers):\n",
    "    print(\"training \"+name+\" ...\")\n",
    "    clf.fit(X_x_train,y_train)\n",
    "    score = clf.score(X_x_test,y_test)\n",
    "    print('Score of'+name+' is: '+str(score))\n",
    "    # iterate over classifiers"
   ]
  },
  {
   "cell_type": "markdown",
   "metadata": {
    "id": "JjlQbMRyqwBz"
   },
   "source": [
    "#### [TODO] SMA\n",
    "* set1 DataFrame의 복사본인 features DataFrame에서 \"B4_x_mean\" 컬럼을 선택하여 새로운 DataFrame ma에 저장합니다.\n",
    "* rolling(window=5).mean() 함수를 사용하여 5개의 연속된 값에 대한 평균을 계산하여 \"SMA\" 컬럼을 생성합니다. 이는 5일 이동 평균을 의미합니다.\n",
    "* 마지막으로, features DataFrame의 'time' 컬럼을 ma DataFrame에 추가합니다.\n",
    "* 베어링 4의 x방향 평균 값에 대한 5일 이동 평균을 계산하고, 그 결과를 새로운 DataFrame에 저장합니다. 이동 평균은 시계열 데이터에서 노이즈를 줄이고 경향성을 더 잘 파악하기 위한 기법으로 널리 사용됩니다."
   ]
  },
  {
   "cell_type": "code",
   "execution_count": null,
   "metadata": {
    "id": "-TgvAtzK1S_V"
   },
   "outputs": [],
   "source": [
    "features = set1.copy()\n",
    "\n",
    "ma = pd.DataFrame()\n",
    "ma['B4_x_mean'] = features['B4_x_mean']\n",
    "ma['SMA'] = ma['B4_x_mean'].rolling(________).______\n",
    "ma['time'] = features['time']"
   ]
  },
  {
   "cell_type": "code",
   "execution_count": null,
   "metadata": {
    "id": "Sc0bD7OW1X3S"
   },
   "outputs": [],
   "source": [
    "#Cumulative Moving Average\n",
    "ma['CMA'] = ma[\"B4_x_mean\"].expanding(min_periods=10).mean()"
   ]
  },
  {
   "cell_type": "code",
   "execution_count": null,
   "metadata": {
    "id": "OlB5pLfm1ZAA"
   },
   "outputs": [],
   "source": [
    "#Exponantial Moving Average\n",
    "ma['EMA'] = ma['B4_x_mean'].ewm(span=40,adjust=False).mean()"
   ]
  },
  {
   "cell_type": "code",
   "execution_count": null,
   "metadata": {
    "colab": {
     "base_uri": "https://localhost:8080/",
     "height": 466
    },
    "id": "2b9ERQyv1ZxO",
    "outputId": "002fc06c-d2ad-4984-b46c-aff5bf635d21"
   },
   "outputs": [],
   "source": [
    "ma.plot(x=\"time\", y= ['B4_x_mean','SMA','CMA','EMA'],rot=45)"
   ]
  },
  {
   "cell_type": "markdown",
   "metadata": {
    "id": "1-vQiKjyEgSL"
   },
   "source": [
    "- 단순이동평균 (SMA) : 특정 기간 동안의 베어링 데이터의 값을 모두 더한 다음 해당 수치를 계산 평균의 기간 수로 나눈 산술 이동 평균 값으로 주로 주식시장에서 가장 기본적이면서도 널리 사용되는 지표 (추세와 지지 및 저항선을 파악하는데 도움)\n",
    "\n",
    "- 누적이동평균 (CMA) : SMA와 같이 산술평균을 구하는 것은 동일하지만, window(데이터를 볼 범위) 값을 정하지 않습니다. (모든 데이터를 고려할 때 사용하며, 이전의 모든 데이터에 영향)\n",
    "\n",
    "- 지수이동평균 (EMA) : 최근의 데이터에 더 높은 가중치를 두는 가중이동평균법\n",
    "  \n",
    " => EMA(i) = k * price(i) + (1-k) * EMA(i-1)\n",
    "\n",
    "---\n",
    "4번째 베어링의 평균값들의 시간에 따른 경향성과 SMA, EMA의 값들이 유사함을 확인할 수 있습니다. 각각의 파트에서 분포가 큰 경우가 있지만, 큰 흐름에서 보면 규칙성이 존재한다고 볼 수도 있을 것 같습니다."
   ]
  },
  {
   "cell_type": "markdown",
   "metadata": {
    "id": "aQb-fKPh1fUW"
   },
   "source": [
    "### 4-8 주성분 분석(PCA)  \n",
    "\n",
    "degradation model 활용을 위해 주성분 분석(PCA)를 사용하여 기본 특성의 정보를 대표하는 특성을 추출합니다.\n",
    "\n",
    "분산이 가장 큰 주성분을 선택하여 데이터의 차원성과 중복성을 감소시키고, 데이터에서 주요한 특성만을 얻을 수 있습니다.\n",
    "\n",
    "- Model fitting  \n",
    "\n",
    "시계열 예측에서는 degradation이 지수적으로 발생한다고 가정합니다.  \n",
    "따라서 양의 기울기를 가지는 지수적 모델을 함수로 생성하고, scipy.optimize 라이브러리를 사용하여 최적화 시킵니다.\n"
   ]
  },
  {
   "cell_type": "code",
   "execution_count": null,
   "metadata": {
    "id": "GEu6Uaqi1awk"
   },
   "outputs": [],
   "source": [
    "# RUL(Remaining Useful Life) Prediction (베어링 수명 예측)\n",
    "def health_indicator(bearing_data,use_filter=False):\n",
    "    data = bearing_data.copy()\n",
    "    if use_filter:\n",
    "        for ft in data.columns:\n",
    "            data[ft] = data[ft].ewm(span=40,adjust=False).mean()\n",
    "    pca = PCA()\n",
    "    X_pca = pca.fit_transform(data)\n",
    "    component_names = [f\"PC{i+1}\" for i in range(X_pca.shape[1])]\n",
    "    X_pca = pd.DataFrame(X_pca, columns=component_names)\n",
    "    print(\"Explained variance of Pricincipal Component 1 is:\"+str(pca.explained_variance_ratio_[0]))\n",
    "    health_indicator = np.array(X_pca['PC1'])\n",
    "    degredation = pd.DataFrame(health_indicator,columns=['PC1'])\n",
    "    degredation['cycle'] = degredation.index\n",
    "    degredation['PC1'] = degredation['PC1']-degredation['PC1'].min(axis=0)\n",
    "\n",
    "    return degredation\n",
    "\n",
    "def fit_exp(df,base=500,print_parameters=False):\n",
    "    x =np.array(df.cycle)\n",
    "    x = x[-base:].copy()\n",
    "    y = np.array(df.PC1)\n",
    "    y = y[-base:].copy()\n",
    "    def exp_fit(x,a,b):\n",
    "        y = a*np.exp(abs(b)*x)\n",
    "        return y\n",
    "    #initial parameters affect the result\n",
    "    fit = curve_fit(exp_fit,x,y,p0=[0.01,0.001],maxfev=10000)\n",
    "    if print_parameters:\n",
    "        print(fit)\n",
    "    return fit\n",
    "\n",
    "def predict(X_df,p):\n",
    "    x =np.array(X_df.cycle)\n",
    "    a,b = p[0]\n",
    "    fit_eq = a*np.exp(abs(b)*x)\n",
    "    return fit_eq\n",
    "\n",
    "log = [[],[]]"
   ]
  },
  {
   "cell_type": "markdown",
   "metadata": {
    "id": "BE89I7Vjcecn"
   },
   "source": [
    "처음 550 cycle은 정상 상태로 가정합니다."
   ]
  },
  {
   "cell_type": "code",
   "execution_count": null,
   "metadata": {
    "id": "CMvdk2S42gY8"
   },
   "outputs": [],
   "source": [
    "prediction_cycle = 550\n",
    "\n",
    "# 초기값 설정\n",
    "init_cycle = prediction_cycle"
   ]
  },
  {
   "cell_type": "markdown",
   "metadata": {
    "id": "LsbA-0P7cecn"
   },
   "source": [
    "특징중 최댓값, 고저폭, RMS값을 추출해서 확인합니다."
   ]
  },
  {
   "cell_type": "code",
   "execution_count": null,
   "metadata": {
    "colab": {
     "base_uri": "https://localhost:8080/"
    },
    "id": "3wx2vntl2auL",
    "outputId": "4a9c6961-10b1-4d71-fd92-e528d5e3699c"
   },
   "outputs": [],
   "source": [
    "selected_features = ['max','p2p','rms']\n",
    "\n",
    "bearing = 3\n",
    "B_x = [\"B{}_x_\".format(bearing)+i for i in selected_features]\n",
    "early_cycles = set1[B_x][:init_cycle]\n",
    "early_cycles_pca = health_indicator(early_cycles,use_filter=True)"
   ]
  },
  {
   "cell_type": "markdown",
   "metadata": {
    "id": "4aLVmaZGrMcI"
   },
   "source": [
    "### 4-9 시각화\n",
    "* 주어진 베어링 데이터 세트(set1) 내의 특정 cycle 범위 내에서 베어링의 건강 상태 지표(health_indicator)를 계산하고, 이를 바탕으로 고장날 때까지의 cycle 수를 예측합니다.\n",
    "* \"health_indicator\" 함수는 주어진 데이터에 대한 베어링의 건강 지표를 계산합니다. 이 지표는 베어링의 성능이 시간에 따라 어떻게 변하는지를 나타내는 중요한 측정 항목입니다.\n",
    "* \"fit_exp\" 함수는 건강 지표에 지수 함수를 적합시키고, \"predict\" 함수는 적합된 함수를 사용하여 베어링의 건강 지표를 예측합니다.\n",
    "* 다음 지정된 임계값(threshold)에 도달할 때까지 걸리는 예상 cycle 수를 계산합니다. 이 값은 베어링이 고장날 때까지 걸릴 것으로 예상되는 시간을 나타냅니다."
   ]
  },
  {
   "cell_type": "code",
   "execution_count": null,
   "metadata": {
    "colab": {
     "base_uri": "https://localhost:8080/",
     "height": 502
    },
    "id": "tSed4OPk2p28",
    "outputId": "897e0505-e4e4-4aa1-a26f-8ef125ef6f39"
   },
   "outputs": [],
   "source": [
    "# 베어링의 예측 수명을 시각화해봅니다. (처음 550 cycle은 threshold를 넘지 않는 값들로 예측이 될 것입니다.)\n",
    "\n",
    "data = set1[B_x][:prediction_cycle]\n",
    "ind=data.index\n",
    "degredation = health_indicator(data,use_filter=True)\n",
    "# degredation.plot(y='PC1',x='cycle')\n",
    "fit = fit_exp(degredation,base=250)\n",
    "\n",
    "prediction = predict(degredation,fit)\n",
    "m,n = fit[0]\n",
    "thres = 2\n",
    "# print(prediction_cycle)\n",
    "fail_cycle = (np.log(thres/m))/abs(n)\n",
    "log[0].append(prediction_cycle)\n",
    "log[1].append(fail_cycle)\n",
    "\n",
    "print(m,n)\n",
    "print('failed at'+str(fail_cycle))\n",
    "\n",
    "fig =plt.figure('Cycle: '+str(prediction_cycle))\n",
    "ax =fig.subplots()\n",
    "\n",
    "ax.plot([0,prediction_cycle],[2,2])\n",
    "ax.scatter(degredation['cycle'],degredation['PC1'],color='b',s=5)\n",
    "ax.plot(degredation['cycle'],prediction,color='r',alpha=0.7)\n",
    "ax.set_title('Cycle: '+str(prediction_cycle))\n",
    "ax.legend(['threshold','prediction'])\n",
    "fig.savefig('output.png')\n",
    "plt.show()\n",
    "increment_cycle =25\n",
    "prediction_cycle += increment_cycle"
   ]
  },
  {
   "cell_type": "markdown",
   "metadata": {
    "id": "WjwdA_EQvkIM"
   },
   "source": [
    "#### [TODO] 전체 Cycle에 대해 threshold를 넘어가는 시점을 확인해봅시다.\n",
    "\n",
    "(hint) 데이터셋 분포를 확인했을 때, 각 베어링 데이터의 관측 시점의 갯수는 2156개였습니다."
   ]
  },
  {
   "cell_type": "code",
   "execution_count": null,
   "metadata": {
    "colab": {
     "base_uri": "https://localhost:8080/",
     "height": 502
    },
    "id": "Mn7BRMPo2q9i",
    "outputId": "8508300f-fab4-4754-a309-d5214a7f2e44"
   },
   "outputs": [],
   "source": [
    "# 전체 cycle에 대해서도 출력해봅시다. (특정 threshold를 넘어가는 시점을 직접 확인해봅시다)\n",
    "prediction_cycle = ____\n",
    "\n",
    "data = set1[B_x][:prediction_cycle]\n",
    "ind=data.index\n",
    "degredation = health_indicator(data,use_filter=True)\n",
    "#degredation.plot(y='PC1',x='cycle')\n",
    "fit = fit_exp(degredation,base=250)\n",
    "\n",
    "prediction = predict(degredation,fit)\n",
    "m,n = fit[0]\n",
    "thres = 2\n",
    "# print(prediction_cycle)\n",
    "fail_cycle = (np.log(thres/m))/abs(n)\n",
    "log[0].append(prediction_cycle)\n",
    "log[1].append(fail_cycle)\n",
    "\n",
    "print(m,n)\n",
    "print('failed at'+str(fail_cycle))\n",
    "\n",
    "fig =plt.figure('Cycle: '+str(prediction_cycle))\n",
    "ax =fig.subplots()\n",
    "\n",
    "ax.plot([0,prediction_cycle],[2,2])\n",
    "ax.scatter(degredation['cycle'],degredation['PC1'],color='b',s=5)\n",
    "ax.plot(degredation['cycle'],prediction,color='r',alpha=0.7)\n",
    "ax.set_title('Cycle: '+str(prediction_cycle))\n",
    "ax.legend(['threshold','prediction'])\n",
    "fig.savefig('output.png')\n",
    "plt.show()\n",
    "increment_cycle =25\n",
    "prediction_cycle += increment_cycle"
   ]
  },
  {
   "cell_type": "markdown",
   "metadata": {
    "id": "yb-6JQe4a0TZ"
   },
   "source": [
    "<span style=\"color:rgb(120, 120, 120)\">본 학습 자료를 포함한 사이트 내 모든 자료의 저작권은 엘리스에 있으며 외부로의 무단 복제, 배포 및 전송을 불허합니다.\n",
    "\n",
    "Copyright @ elice all rights reserved</span>"
   ]
  }
 ],
 "metadata": {
  "colab": {
   "provenance": []
  },
  "kernelspec": {
   "display_name": "Python 3 (ipykernel)",
   "language": "python",
   "name": "python3"
  },
  "language_info": {
   "codemirror_mode": {
    "name": "ipython",
    "version": 3
   },
   "file_extension": ".py",
   "mimetype": "text/x-python",
   "name": "python",
   "nbconvert_exporter": "python",
   "pygments_lexer": "ipython3",
   "version": "3.10.10"
  },
  "vscode": {
   "interpreter": {
    "hash": "949777d72b0d2535278d3dc13498b2535136f6dfe0678499012e853ee9abcab1"
   }
  }
 },
 "nbformat": 4,
 "nbformat_minor": 1
}
