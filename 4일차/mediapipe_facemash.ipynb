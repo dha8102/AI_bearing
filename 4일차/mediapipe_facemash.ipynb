{
 "cells": [
  {
   "cell_type": "code",
   "execution_count": 1,
   "metadata": {
    "id": "gfF1uq5W3V9L",
    "outputId": "a1594296-f75a-442a-e88b-11276837e8d9"
   },
   "outputs": [
    {
     "name": "stdout",
     "output_type": "stream",
     "text": [
      "Requirement already satisfied: opencv-python in c:\\conda\\envs\\dh\\lib\\site-packages (4.8.0.76)\n",
      "Requirement already satisfied: numpy>=1.17.0 in c:\\conda\\envs\\dh\\lib\\site-packages (from opencv-python) (1.25.2)\n"
     ]
    }
   ],
   "source": [
    "!pip install opencv-python"
   ]
  },
  {
   "cell_type": "code",
   "execution_count": 2,
   "metadata": {
    "id": "MVz7hs_o3V9O",
    "outputId": "f5fa585c-b858-48d7-a953-b868690250fb"
   },
   "outputs": [
    {
     "name": "stdout",
     "output_type": "stream",
     "text": [
      "Requirement already satisfied: mediapipe in c:\\conda\\envs\\dh\\lib\\site-packages (0.10.3)\n",
      "Requirement already satisfied: absl-py in c:\\conda\\envs\\dh\\lib\\site-packages (from mediapipe) (1.4.0)\n",
      "Requirement already satisfied: attrs>=19.1.0 in c:\\conda\\envs\\dh\\lib\\site-packages (from mediapipe) (23.1.0)\n",
      "Requirement already satisfied: flatbuffers>=2.0 in c:\\conda\\envs\\dh\\lib\\site-packages (from mediapipe) (23.5.26)\n",
      "Requirement already satisfied: matplotlib in c:\\conda\\envs\\dh\\lib\\site-packages (from mediapipe) (3.7.2)\n",
      "Requirement already satisfied: numpy in c:\\conda\\envs\\dh\\lib\\site-packages (from mediapipe) (1.25.2)\n",
      "Requirement already satisfied: opencv-contrib-python in c:\\conda\\envs\\dh\\lib\\site-packages (from mediapipe) (4.8.0.76)\n",
      "Requirement already satisfied: protobuf<4,>=3.11 in c:\\conda\\envs\\dh\\lib\\site-packages (from mediapipe) (3.20.3)\n",
      "Requirement already satisfied: sounddevice>=0.4.4 in c:\\conda\\envs\\dh\\lib\\site-packages (from mediapipe) (0.4.6)\n",
      "Requirement already satisfied: CFFI>=1.0 in c:\\conda\\envs\\dh\\lib\\site-packages (from sounddevice>=0.4.4->mediapipe) (1.15.1)\n",
      "Requirement already satisfied: contourpy>=1.0.1 in c:\\conda\\envs\\dh\\lib\\site-packages (from matplotlib->mediapipe) (1.1.0)\n",
      "Requirement already satisfied: cycler>=0.10 in c:\\conda\\envs\\dh\\lib\\site-packages (from matplotlib->mediapipe) (0.11.0)\n",
      "Requirement already satisfied: fonttools>=4.22.0 in c:\\conda\\envs\\dh\\lib\\site-packages (from matplotlib->mediapipe) (4.42.1)\n",
      "Requirement already satisfied: kiwisolver>=1.0.1 in c:\\conda\\envs\\dh\\lib\\site-packages (from matplotlib->mediapipe) (1.4.5)\n",
      "Requirement already satisfied: packaging>=20.0 in c:\\conda\\envs\\dh\\lib\\site-packages (from matplotlib->mediapipe) (23.1)\n",
      "Requirement already satisfied: pillow>=6.2.0 in c:\\conda\\envs\\dh\\lib\\site-packages (from matplotlib->mediapipe) (10.0.0)\n",
      "Requirement already satisfied: pyparsing<3.1,>=2.3.1 in c:\\conda\\envs\\dh\\lib\\site-packages (from matplotlib->mediapipe) (3.0.9)\n",
      "Requirement already satisfied: python-dateutil>=2.7 in c:\\conda\\envs\\dh\\lib\\site-packages (from matplotlib->mediapipe) (2.8.2)\n",
      "Requirement already satisfied: importlib-resources>=3.2.0 in c:\\conda\\envs\\dh\\lib\\site-packages (from matplotlib->mediapipe) (6.0.1)\n",
      "Requirement already satisfied: pycparser in c:\\conda\\envs\\dh\\lib\\site-packages (from CFFI>=1.0->sounddevice>=0.4.4->mediapipe) (2.21)\n",
      "Requirement already satisfied: zipp>=3.1.0 in c:\\conda\\envs\\dh\\lib\\site-packages (from importlib-resources>=3.2.0->matplotlib->mediapipe) (3.16.2)\n",
      "Requirement already satisfied: six>=1.5 in c:\\conda\\envs\\dh\\lib\\site-packages (from python-dateutil>=2.7->matplotlib->mediapipe) (1.16.0)\n"
     ]
    }
   ],
   "source": [
    "!pip install mediapipe"
   ]
  },
  {
   "cell_type": "code",
   "execution_count": 3,
   "metadata": {
    "id": "pECQuLw63V9O"
   },
   "outputs": [],
   "source": [
    "import cv2\n",
    "import mediapipe as mp\n",
    "mp_drawing = mp.solutions.drawing_utils\n",
    "mp_drawing_styles = mp.solutions.drawing_styles\n",
    "mp_face_mesh = mp.solutions.face_mesh"
   ]
  },
  {
   "cell_type": "code",
   "execution_count": 5,
   "metadata": {
    "id": "sCtAyfdm3V9P",
    "outputId": "fc4a1e48-8018-4b84-f11c-fae6d4282ac0"
   },
   "outputs": [
    {
     "name": "stdin",
     "output_type": "stream",
     "text": [
      "적용할 스타일:  123\n"
     ]
    }
   ],
   "source": [
    "drawing_spec = mp_drawing.DrawingSpec(thickness=1, circle_radius=1)\n",
    "cap = cv2.VideoCapture(0)\n",
    "with mp_face_mesh.FaceMesh(\n",
    "    max_num_faces=3, # 탐지할 최대 얼굴 수\n",
    "    refine_landmarks=True, # 눈동자 주변의 랜드마크를 추가로 출력할지 여부\n",
    "    min_detection_confidence=0.5, # 탐지가 성공한 것으로 간주되는 얼굴 탐지 모델의 최소 신뢰 값([0.0, 1.0])\n",
    "    min_tracking_confidence=0.5) as face_mesh: # 랜드마크 추적 모델의 최소 신뢰 값([0.0, 1.0])\n",
    "\n",
    "    num = input('적용할 스타일: ')\n",
    "\n",
    "    while cap.isOpened():\n",
    "        success, image = cap.read()\n",
    "        if not success:\n",
    "            print(\"Ignoring empty camera frame.\")\n",
    "            # If loading a video, use 'break' instead of 'continue'.\n",
    "            continue\n",
    "\n",
    "        image.flags.writeable = False\n",
    "        image = cv2.cvtColor(image, cv2.COLOR_BGR2RGB)\n",
    "        results = face_mesh.process(image) #결과값으로 각 얼굴 468개의 얼굴 랜드마크 목록 추출, 각 랜드마크는 x, y 및 z로 구성됨\n",
    "\n",
    "        # 이미지 위에 얼굴 그물망 주석 그리기\n",
    "        image.flags.writeable = True\n",
    "        image = cv2.cvtColor(image, cv2.COLOR_RGB2BGR)\n",
    "        if results.multi_face_landmarks:\n",
    "              for face_landmarks in results.multi_face_landmarks:\n",
    "                    if '1' in num:\n",
    "                        mp_drawing.draw_landmarks(\n",
    "                            image=image,\n",
    "                            landmark_list=face_landmarks,\n",
    "                            connections=mp_face_mesh.FACEMESH_TESSELATION,\n",
    "                            landmark_drawing_spec=None,\n",
    "                            connection_drawing_spec=mp_drawing_styles\n",
    "                            .get_default_face_mesh_tesselation_style())\n",
    "                    if '2' in num:\n",
    "                        mp_drawing.draw_landmarks(\n",
    "                            image=image,\n",
    "                            landmark_list=face_landmarks,\n",
    "                            connections=mp_face_mesh.FACEMESH_CONTOURS,\n",
    "                            landmark_drawing_spec=None,\n",
    "                            connection_drawing_spec=mp_drawing_styles\n",
    "                            .get_default_face_mesh_contours_style())\n",
    "                    if '3' in num:\n",
    "                        mp_drawing.draw_landmarks(\n",
    "                            image=image,\n",
    "                            landmark_list=face_landmarks,\n",
    "                            connections=mp_face_mesh.FACEMESH_IRISES,\n",
    "                            landmark_drawing_spec=None,\n",
    "                            connection_drawing_spec=mp_drawing_styles\n",
    "                            .get_default_face_mesh_iris_connections_style())\n",
    "\n",
    "        cv2.imshow('MediaPipe Face Mesh', cv2.flip(image, 1))\n",
    "        if cv2.waitKey(1) == ord('q'):\n",
    "            break\n",
    "\n",
    "\n",
    "cap.release()\n",
    "cv2.destroyAllWindows()"
   ]
  },
  {
   "cell_type": "code",
   "execution_count": null,
   "metadata": {
    "id": "Y0XFSpBD3V9P"
   },
   "outputs": [],
   "source": []
  }
 ],
 "metadata": {
  "colab": {
   "provenance": []
  },
  "kernelspec": {
   "display_name": "Python 3 (ipykernel)",
   "language": "python",
   "name": "python3"
  },
  "language_info": {
   "codemirror_mode": {
    "name": "ipython",
    "version": 3
   },
   "file_extension": ".py",
   "mimetype": "text/x-python",
   "name": "python",
   "nbconvert_exporter": "python",
   "pygments_lexer": "ipython3",
   "version": "3.9.17"
  }
 },
 "nbformat": 4,
 "nbformat_minor": 4
}
